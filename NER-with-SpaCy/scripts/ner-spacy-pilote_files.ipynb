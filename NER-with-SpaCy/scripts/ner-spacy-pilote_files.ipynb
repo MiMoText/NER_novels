{
 "cells": [
  {
   "cell_type": "markdown",
   "metadata": {},
   "source": [
    "# Named Entity Recognition on PILOT files using classic SpaCy pipeline\n",
    "\n",
    "MiMoText pilot files are: \n",
    "\n",
    "* Senac_Emigre\n",
    "* Maistre_Voyage\n",
    "* Sade_Aline\n",
    "* Sade_Justine\n",
    "* Bernadin_Paul\n",
    "* Laclos_Liaisons\n",
    "* Retif_Paysanne\n",
    "* Retif_Paysan\n",
    "* Mercier_An\n",
    "* Retif_AntiJustine\n",
    "* Rousseau_Julie\n",
    "* Voltaire_Candide\n",
    "\n",
    "For full list of metadata and MiMoText IDs see https://docs.google.com/spreadsheets/d/10HrWlxkAuOiMxgyDa4K8cA7syvbFJGAW2kgbonyyDvQ/edit#gid=0 \n",
    "\n",
    "The pretrained statistical models for French is multi-task CNN trained on UD French Sequoia and WikiNER. Assigns context-specific token vectors, POS tags, dependency parse and named entities."
   ]
  },
  {
   "cell_type": "markdown",
   "metadata": {},
   "source": [
    "When you call `nlp` on a text, spaCy first tokenizes the text to produce a `Doc` object. The `Doc` is then processed in several different steps – this is also referred to as the processing pipeline. The pipeline used by the default models consists of a tagger, a parser and an entity recognizer. Each pipeline component returns the processed `Doc`, which is then passed on to the next component."
   ]
  },
  {
   "cell_type": "code",
   "execution_count": 41,
   "metadata": {},
   "outputs": [],
   "source": [
    "import spacy\n",
    "import re\n",
    "import glob\n",
    "import nltk\n",
    "import sklearn\n",
    "from spacy import pipeline\n",
    "from spacy import morphology\n",
    "from spacy import displacy \n",
    "from collections import Counter\n",
    "import fr_core_news_md\n",
    "import requests \n",
    "sklearn.feature_extraction.text.CountVectorizer\n",
    "\n",
    "# loading of french language model\n",
    "nlp = fr_core_news_md.load()\n"
   ]
  },
  {
   "cell_type": "code",
   "execution_count": 46,
   "metadata": {},
   "outputs": [
    {
     "data": {
      "text/plain": [
       "[('Venise', 27),\n",
       " ('Cacambo', 20),\n",
       " ('Bulgares', 19),\n",
       " ('Buenos', 13),\n",
       " ('Constantinople', 12),\n",
       " ('Ayres', 12),\n",
       " ('Paris', 12),\n",
       " ('Europe', 9),\n",
       " ('Westphalie', 8),\n",
       " ('Portugal', 8)]"
      ]
     },
     "execution_count": 46,
     "metadata": {},
     "output_type": "execute_result"
    }
   ],
   "source": [
    "# printing out a sorted list of the ten most common LOC entities within the text \n",
    "voltaire_candide = requests.get('https://raw.githubusercontent.com/MiMoText/roman-dixhuit/master/plain/files/Voltaire_Candide.txt')\n",
    "voltaire_candide = nlp(voltaire_candide.text)\n",
    "listOfPER_voltaire_candide = [ent for ent in voltaire_candide.ents if ent.label_ == 'LOC']\n",
    "Counter([ent.text.strip() for ent in listOfPER_voltaire_candide]).most_common(10)"
   ]
  },
  {
   "cell_type": "code",
   "execution_count": 47,
   "metadata": {},
   "outputs": [
    {
     "data": {
      "text/plain": [
       "[('Émilie', 69),\n",
       " ('Français', 58),\n",
       " ('Paris', 37),\n",
       " ('Francfort', 33),\n",
       " ('France', 33),\n",
       " ('la France', 27),\n",
       " ('Émigrés', 27),\n",
       " ('Mayence', 22),\n",
       " ('de France', 16),\n",
       " ('Française', 13)]"
      ]
     },
     "execution_count": 47,
     "metadata": {},
     "output_type": "execute_result"
    }
   ],
   "source": [
    "# printing out a sorted list of the ten most common LOC entities within the text \n",
    "senac_emigre = requests.get('https://raw.githubusercontent.com/MiMoText/roman-dixhuit/master/plain/files/Senac_Emigre.txt')\n",
    "senac_emigre = nlp(senac_emigre.text)\n",
    "Counter([ent.text.strip() for ent in [ent for ent in senac_emigre.ents if ent.label_ == 'LOC']]).most_common(10)"
   ]
  },
  {
   "cell_type": "code",
   "execution_count": 48,
   "metadata": {},
   "outputs": [
    {
     "data": {
      "text/plain": [
       "[('Alpes', 4),\n",
       " ('Paris', 3),\n",
       " ('Turin', 3),\n",
       " ('Rome', 2),\n",
       " ('Indes', 2),\n",
       " ('Sentence', 1),\n",
       " ('Amour', 1),\n",
       " ('Messieurs', 1),\n",
       " ('Soleil', 1),\n",
       " ('Sicile', 1)]"
      ]
     },
     "execution_count": 48,
     "metadata": {},
     "output_type": "execute_result"
    }
   ],
   "source": [
    "maistre_voyage = requests.get('https://raw.githubusercontent.com/MiMoText/roman-dixhuit/master/plain/files/Maistre_Voyage.txt')\n",
    "maistre_voyage = nlp(maistre_voyage.text)\n",
    "listOfLOC_maistre_voyage = [ent for ent in maistre_voyage.ents if ent.label_ == 'LOC']\n",
    "Counter([ent.text.strip() for ent in listOfLOC_maistre_voyage]).most_common(10)"
   ]
  },
  {
   "cell_type": "code",
   "execution_count": 49,
   "metadata": {},
   "outputs": [
    {
     "data": {
      "text/plain": [
       "[('Paris', 105),\n",
       " ('Valmont', 53),\n",
       " ('Opéra', 14),\n",
       " ('Croyez', 8),\n",
       " ('Suis', 8),\n",
       " ('Gercourt', 6),\n",
       " ('Tourvel', 6),\n",
       " ('Suisse', 6),\n",
       " ('Supérieure', 6),\n",
       " ('P', 5)]"
      ]
     },
     "execution_count": 49,
     "metadata": {},
     "output_type": "execute_result"
    }
   ],
   "source": [
    "laclos_liaisons = requests.get('https://raw.githubusercontent.com/MiMoText/roman-dixhuit/master/plain/files/Laclos_Liaisons.txt')\n",
    "laclos_liaisons  = nlp(laclos_liaisons.text)\n",
    "listOfLOC_laclos_liaisons = [ent for ent in laclos_liaisons.ents if ent.label_ == 'LOC']\n",
    "Counter([ent.text.strip() for ent in listOfLOC_laclos_liaisons]).most_common(10)"
   ]
  },
  {
   "cell_type": "code",
   "execution_count": 50,
   "metadata": {},
   "outputs": [],
   "source": [
    "#Increasing the max_length for longer novels \n",
    "nlp.max_length = 1700000"
   ]
  },
  {
   "cell_type": "code",
   "execution_count": 51,
   "metadata": {},
   "outputs": [
    {
     "data": {
      "text/plain": [
       "[('Wolmar', 96),\n",
       " ('Paris', 65),\n",
       " ('Clarens', 30),\n",
       " ('Saint-Preux', 24),\n",
       " ('Londres', 20),\n",
       " ('JULIE', 19),\n",
       " ('Orbe', 18),\n",
       " ('Rome', 17),\n",
       " ('Opéra', 15),\n",
       " ('Geneve', 14)]"
      ]
     },
     "execution_count": 51,
     "metadata": {},
     "output_type": "execute_result"
    }
   ],
   "source": [
    "rousseau_julie = requests.get('https://raw.githubusercontent.com/MiMoText/roman-dixhuit/master/plain/files/Rousseau_Julie.txt')\n",
    "rousseau_julie = nlp(rousseau_julie.text)\n",
    "listOfLOC_rousseau_julie = [ent for ent in rousseau_julie.ents if ent.label_ == 'LOC']\n",
    "Counter([ent.text.strip() for ent in listOfLOC_rousseau_julie]).most_common(10)"
   ]
  },
  {
   "cell_type": "code",
   "execution_count": 52,
   "metadata": {},
   "outputs": [
    {
     "data": {
      "text/plain": [
       "[('Paris', 72),\n",
       " ('Italien', 22),\n",
       " ('Opéra', 14),\n",
       " ('S', 13),\n",
       " ('G', 12),\n",
       " ('Suis', 11),\n",
       " ('M', 10),\n",
       " ('Laure', 8),\n",
       " ('Trémoussée', 8),\n",
       " ('R', 7)]"
      ]
     },
     "execution_count": 52,
     "metadata": {},
     "output_type": "execute_result"
    }
   ],
   "source": [
    "retif_paysanne = requests.get('https://raw.githubusercontent.com/MiMoText/roman-dixhuit/master/plain/files/Retif_Paysanne.txt')\n",
    "retif_paysanne= nlp(retif_paysanne.text)\n",
    "listOfLOC_retif_paysanne = [ent for ent in retif_paysanne.ents if ent.label_ == 'LOC']\n",
    "Counter([ent.text.strip() for ent in listOfLOC_retif_paysanne]).most_common(10)"
   ]
  },
  {
   "cell_type": "code",
   "execution_count": null,
   "metadata": {},
   "outputs": [],
   "source": [
    "#-->> Check: Why are there unusual LOC entitites ini retif_paysanne? Displacy renders the whole text with named entities (grey = PERS , orange = LOC, blue = ORG)\n",
    "displacy.render(retif_paysanne,style = 'ent', jupyter=True)"
   ]
  },
  {
   "cell_type": "code",
   "execution_count": 53,
   "metadata": {},
   "outputs": [
    {
     "data": {
      "text/plain": [
       "[('Minonne', 53),\n",
       " ('Guaé', 49),\n",
       " ('Conquette', 41),\n",
       " ('Traitdamour', 31),\n",
       " ('Connette', 22),\n",
       " ('Montencon', 20),\n",
       " ('Brisemotte', 13),\n",
       " ('Brideconin', 9),\n",
       " ('Paris', 8),\n",
       " ('Rosemauve', 7)]"
      ]
     },
     "execution_count": 53,
     "metadata": {},
     "output_type": "execute_result"
    }
   ],
   "source": [
    "retif_antijustine = requests.get('https://raw.githubusercontent.com/MiMoText/roman18/master/plain/files/Retif_AntiJustine.txt')\n",
    "retif_antijustine= nlp(retif_antijustine.text)\n",
    "listOfLOC_retif_antijustine = [ent for ent in retif_antijustine.ents if ent.label_ == 'LOC']\n",
    "Counter([ent.text.strip() for ent in listOfLOC_retif_antijustine]).most_common(10)"
   ]
  },
  {
   "cell_type": "code",
   "execution_count": 21,
   "metadata": {},
   "outputs": [
    {
     "data": {
      "text/plain": [
       "[('Lyon', 26),\n",
       " ('Paris', 25),\n",
       " ('Cardoville', 24),\n",
       " ('Grenoble', 13),\n",
       " ('France', 10),\n",
       " ('Corville', 9),\n",
       " ('Être suprême', 8),\n",
       " ('Dauphiné', 7),\n",
       " ('Villefranche', 6),\n",
       " ('Dubourg', 5)]"
      ]
     },
     "execution_count": 21,
     "metadata": {},
     "output_type": "execute_result"
    }
   ],
   "source": [
    "sade_justine = requests.get('https://raw.githubusercontent.com/MiMoText/roman-dixhuit/master/plain/files/Sade_Justine.txt')\n",
    "sade_justine = nlp(sade_justine.text)\n",
    "listOfLOC_sade_justine = [ent for ent in sade_justine.ents if ent.label_ == 'LOC']\n",
    "Counter([ent.text.strip() for ent in listOfLOC_sade_justine]).most_common(10)\n"
   ]
  },
  {
   "cell_type": "code",
   "execution_count": 56,
   "metadata": {},
   "outputs": [
    {
     "data": {
      "text/plain": [
       "[('Paris', 96),\n",
       " ('Blamont', 92),\n",
       " ('Brigandos', 55),\n",
       " ('État', 52),\n",
       " ('Portugais', 51),\n",
       " ('Europe', 49),\n",
       " ('Déterville', 41),\n",
       " ('Vertfeuille', 40),\n",
       " ('Valcour', 39),\n",
       " ('Madrid', 36)]"
      ]
     },
     "execution_count": 56,
     "metadata": {},
     "output_type": "execute_result"
    }
   ],
   "source": [
    "sade_aline = requests.get('https://raw.githubusercontent.com/MiMoText/roman-dixhuit/master/plain/files/Sade_Aline.txt')\n",
    "sade_aline = nlp(sade_aline.text)\n",
    "listOfLOC_sade_aline = [ent for ent in sade_aline.ents if ent.label_ == 'LOC']\n",
    "Counter([ent.text.strip() for ent in listOfLOC_sade_aline]).most_common(10)"
   ]
  },
  {
   "cell_type": "code",
   "execution_count": 57,
   "metadata": {},
   "outputs": [
    {
     "data": {
      "text/plain": [
       "[('Virginie', 224),\n",
       " ('France', 21),\n",
       " (\"l'Europe\", 19),\n",
       " ('Europe', 14),\n",
       " ('Indes', 13),\n",
       " ('Port-Louis', 13),\n",
       " ('Pamplemousses', 12),\n",
       " ('Paris', 11),\n",
       " ('Providence', 9),\n",
       " ('Noire', 8)]"
      ]
     },
     "execution_count": 57,
     "metadata": {},
     "output_type": "execute_result"
    }
   ],
   "source": [
    "bernadin_paul = requests.get('https://raw.githubusercontent.com/MiMoText/roman18/master/plain/files/Bernardin_Paul.txt')\n",
    "bernadin_paul = nlp(bernadin_paul.text)\n",
    "listOfLOC_bernadin_paul = [ent for ent in bernadin_paul .ents if ent.label_ == 'LOC']\n",
    "Counter([ent.text.strip() for ent in listOfLOC_bernadin_paul ]).most_common(10)"
   ]
  },
  {
   "cell_type": "code",
   "execution_count": 58,
   "metadata": {},
   "outputs": [
    {
     "data": {
      "text/plain": [
       "[('État', 27),\n",
       " ('Paris', 15),\n",
       " ('Anglois', 8),\n",
       " ('Angleterre', 7),\n",
       " ('Être Suprême', 7),\n",
       " ('Rome', 7),\n",
       " (\"l'Europe\", 7),\n",
       " ('États', 6),\n",
       " (\"l'Amérique\", 5),\n",
       " ('Europe', 5)]"
      ]
     },
     "execution_count": 58,
     "metadata": {},
     "output_type": "execute_result"
    }
   ],
   "source": [
    "mercier_an = requests.get('https://raw.githubusercontent.com/MiMoText/roman18/master/plain/files/Mercier_An.txt')\n",
    "mercier_an  = nlp(mercier_an.text)\n",
    "listOfLOC_mercier_an  = [ent for ent in mercier_an.ents if ent.label_ == 'LOC']\n",
    "Counter([ent.text.strip() for ent in listOfLOC_mercier_an]).most_common(10)\n"
   ]
  },
  {
   "cell_type": "markdown",
   "metadata": {},
   "source": [
    "# PER entities\n",
    "\n",
    "Printing out a sorted list of the ten most common PER entities within the french novels (pilote corpus MiMoText)"
   ]
  },
  {
   "cell_type": "code",
   "execution_count": 26,
   "metadata": {},
   "outputs": [
    {
     "data": {
      "text/plain": [
       "[('Candide', 245),\n",
       " ('Cunégonde', 110),\n",
       " ('Martin', 108),\n",
       " ('Pangloss', 86),\n",
       " ('Cacambo', 53),\n",
       " ('Paquette', 16),\n",
       " ('Eldorado', 13),\n",
       " ('Pococurante', 11),\n",
       " ('Giroflée', 8),\n",
       " ('M.', 7)]"
      ]
     },
     "execution_count": 26,
     "metadata": {},
     "output_type": "execute_result"
    }
   ],
   "source": [
    "Counter([ent.text.strip() for ent in [ent for ent in voltaire_candide.ents if ent.label_ == 'PER']]).most_common(10)"
   ]
  },
  {
   "cell_type": "code",
   "execution_count": 27,
   "metadata": {},
   "outputs": [
    {
     "data": {
      "text/plain": [
       "[('Marquis', 331),\n",
       " ('Adieu', 125),\n",
       " ('Commandeur', 85),\n",
       " ('Marquis de St. Alban', 67),\n",
       " ('Madame', 61),\n",
       " ('Mademoiselle', 60),\n",
       " ('Melle Émilie de Wergentheim', 52),\n",
       " ('Roi', 52),\n",
       " ('Bertrand', 50),\n",
       " ('Président', 48)]"
      ]
     },
     "execution_count": 27,
     "metadata": {},
     "output_type": "execute_result"
    }
   ],
   "source": [
    "Counter([ent.text.strip() for ent in [ent for ent in senac_emigre.ents if ent.label_ == 'PER']]).most_common(10)"
   ]
  },
  {
   "cell_type": "code",
   "execution_count": 28,
   "metadata": {},
   "outputs": [
    {
     "data": {
      "text/plain": [
       "[('Joannetti', 19),\n",
       " ('Rosine', 11),\n",
       " ('Aspasie', 8),\n",
       " ('Raphaël', 7),\n",
       " ('Hippocrate', 6),\n",
       " ('Platon', 5),\n",
       " ('madame de Hautcastel', 5),\n",
       " ('Périclès', 4),\n",
       " ('Est-il', 2),\n",
       " ('Mille', 2)]"
      ]
     },
     "execution_count": 28,
     "metadata": {},
     "output_type": "execute_result"
    }
   ],
   "source": [
    "Counter([ent.text.strip() for ent in [ent for ent in maistre_voyage.ents if ent.label_ == 'PER']]).most_common(10)"
   ]
  },
  {
   "cell_type": "code",
   "execution_count": 29,
   "metadata": {},
   "outputs": [
    {
     "data": {
      "text/plain": [
       "[('Adieu', 128),\n",
       " ('Monsieur', 87),\n",
       " ('Madame', 86),\n",
       " ('Vicomte de Valmont', 86),\n",
       " ('M. de Valmont', 64),\n",
       " ('Marquise de Merteuil', 63),\n",
       " ('Prévan', 58),\n",
       " ('Cécile', 52),\n",
       " ('Vicomte', 50),\n",
       " ('Cécile Volanges', 40)]"
      ]
     },
     "execution_count": 29,
     "metadata": {},
     "output_type": "execute_result"
    }
   ],
   "source": [
    "Counter([ent.text.strip() for ent in [ent for ent in laclos_liaisons.ents if ent.label_ == 'PER']]).most_common(10)"
   ]
  },
  {
   "cell_type": "code",
   "execution_count": 30,
   "metadata": {},
   "outputs": [
    {
     "data": {
      "text/plain": [
       "[('Julie', 291),\n",
       " ('Ciel', 93),\n",
       " ('Milord Edouard', 75),\n",
       " ('M. de Wolmar', 70),\n",
       " ('Claire', 67),\n",
       " ('Milord', 61),\n",
       " ('hui’hui', 52),\n",
       " ('Adieu', 37),\n",
       " ('Fanchon', 37),\n",
       " ('Madame', 29)]"
      ]
     },
     "execution_count": 30,
     "metadata": {},
     "output_type": "execute_result"
    }
   ],
   "source": [
    "Counter([ent.text.strip() for ent in [ent for ent in rousseau_julie.ents if ent.label_ == 'PER']]).most_common(10)"
   ]
  },
  {
   "cell_type": "code",
   "execution_count": 31,
   "metadata": {},
   "outputs": [
    {
     "data": {
      "text/plain": [
       "[('Edmond', 593),\n",
       " ('Ursule', 438),\n",
       " ('Mme Parangon', 213),\n",
       " ('Laure', 109),\n",
       " ('Gaudet', 95),\n",
       " ('Fanchon', 76),\n",
       " ('M. Gaudet', 72),\n",
       " ('Adieu', 70),\n",
       " ('Mme Canon', 68),\n",
       " ('Lagouache', 55)]"
      ]
     },
     "execution_count": 31,
     "metadata": {},
     "output_type": "execute_result"
    }
   ],
   "source": []
  },
  {
   "cell_type": "code",
   "execution_count": 36,
   "metadata": {},
   "outputs": [
    {
     "data": {
      "text/plain": [
       "[('Vitnègre', 93),\n",
       " ('Traitdamour', 83),\n",
       " ('Conquette', 53),\n",
       " ('Timori', 41),\n",
       " ('Guaé', 41),\n",
       " ('Fysitère', 38),\n",
       " ('Rosemauve', 36),\n",
       " ('Connette', 30),\n",
       " ('Conquette Ingénue', 23),\n",
       " ('Non', 14)]"
      ]
     },
     "execution_count": 36,
     "metadata": {},
     "output_type": "execute_result"
    }
   ],
   "source": [
    "Counter([ent.text.strip() for ent in [ent for ent in retif_antijustine.ents if ent.label_ == 'PER']]).most_common(10)"
   ]
  },
  {
   "cell_type": "code",
   "execution_count": 33,
   "metadata": {},
   "outputs": [
    {
     "data": {
      "text/plain": [
       "[('Thérèse', 229),\n",
       " ('Rodin', 78),\n",
       " ('Roland', 74),\n",
       " ('Dubois', 68),\n",
       " ('Saint-Florent', 47),\n",
       " ('Clément', 38),\n",
       " ('Rosalie', 33),\n",
       " ('Omphale', 31),\n",
       " ('Mme de Lorsange', 26),\n",
       " ('Sévérino', 26)]"
      ]
     },
     "execution_count": 33,
     "metadata": {},
     "output_type": "execute_result"
    }
   ],
   "source": [
    "Counter([ent.text.strip() for ent in [ent for ent in sade_justine.ents if ent.label_ == 'PER']]).most_common(10)"
   ]
  },
  {
   "cell_type": "code",
   "execution_count": 59,
   "metadata": {},
   "outputs": [
    {
     "data": {
      "text/plain": [
       "[('Aline', 299),\n",
       " ('Léonore', 165),\n",
       " ('Sophie', 164),\n",
       " ('Clémentine', 156),\n",
       " ('madame de Blamont', 144),\n",
       " ('Valcour', 104),\n",
       " ('Zamé', 93),\n",
       " ('Sainville', 72),\n",
       " ('Madame de Blamont', 71),\n",
       " ('Isabeau', 45)]"
      ]
     },
     "execution_count": 59,
     "metadata": {},
     "output_type": "execute_result"
    }
   ],
   "source": [
    "Counter([ent.text.strip() for ent in [ent for ent in sade_aline.ents if ent.label_ == 'PER']]).most_common(10)"
   ]
  },
  {
   "cell_type": "code",
   "execution_count": 30,
   "metadata": {},
   "outputs": [
    {
     "data": {
      "text/plain": [
       "[('Paul', 177),\n",
       " ('madame de la Tour', 56),\n",
       " ('Marguerite', 37),\n",
       " ('Domingue', 36),\n",
       " ('Madame de la Tour', 25),\n",
       " ('Marie', 21),\n",
       " ('M. de la Bourdonnais', 15),\n",
       " ('Fidèle', 8),\n",
       " ('Homère', 7),\n",
       " ('M. Roger', 6)]"
      ]
     },
     "execution_count": 30,
     "metadata": {},
     "output_type": "execute_result"
    }
   ],
   "source": [
    "Counter([ent.text.strip() for ent in [ent for ent in bernadin_paul.ents if ent.label_ == 'PER']]).most_common(10)"
   ]
  },
  {
   "cell_type": "code",
   "execution_count": 39,
   "metadata": {},
   "outputs": [
    {
     "data": {
      "text/plain": [
       "[('François', 13),\n",
       " ('Monsieur', 8),\n",
       " ('Roi', 8),\n",
       " ('Messieurs', 8),\n",
       " ('Oui', 8),\n",
       " ('Voltaire', 7),\n",
       " ('Louis XV', 6),\n",
       " ('Corneille', 6),\n",
       " ('Henri IV', 5),\n",
       " ('Louis XIV', 5)]"
      ]
     },
     "execution_count": 39,
     "metadata": {},
     "output_type": "execute_result"
    }
   ],
   "source": [
    "Counter([ent.text.strip() for ent in [ent for ent in mercier_an.ents if ent.label_ == 'PER']]).most_common(10)"
   ]
  },
  {
   "cell_type": "code",
   "execution_count": 35,
   "metadata": {},
   "outputs": [],
   "source": [
    "# Computing Similarity with word vectors (SpaCy)"
   ]
  },
  {
   "cell_type": "code",
   "execution_count": 60,
   "metadata": {},
   "outputs": [
    {
     "name": "stdout",
     "output_type": "stream",
     "text": [
      "voltaire_candide et laclos_liaisons  0.9450388522973917\n",
      "voltaire_candide et senac_emigre 0.9870599846699816\n",
      "voltaire_candide et sade aline 0.9669153988417551\n",
      "voltaire_candide et maistre_voyage 0.9868767207249752\n"
     ]
    }
   ],
   "source": [
    "print('voltaire_candide et laclos_liaisons ',voltaire_candide.similarity(laclos_liaisons))\n",
    "print('voltaire_candide et senac_emigre',voltaire_candide.similarity(senac_emigre))\n",
    "print('voltaire_candide et sade aline',voltaire_candide.similarity(sade_aline))\n",
    "print('voltaire_candide et maistre_voyage',voltaire_candide.similarity(maistre_voyage))"
   ]
  },
  {
   "cell_type": "code",
   "execution_count": null,
   "metadata": {},
   "outputs": [],
   "source": []
  }
 ],
 "metadata": {
  "kernelspec": {
   "display_name": "Python 3",
   "language": "python",
   "name": "python3"
  },
  "language_info": {
   "codemirror_mode": {
    "name": "ipython",
    "version": 3
   },
   "file_extension": ".py",
   "mimetype": "text/x-python",
   "name": "python",
   "nbconvert_exporter": "python",
   "pygments_lexer": "ipython3",
   "version": "3.8.3"
  }
 },
 "nbformat": 4,
 "nbformat_minor": 4
}
